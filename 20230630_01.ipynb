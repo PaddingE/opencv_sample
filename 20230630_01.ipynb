{
 "cells": [
  {
   "cell_type": "code",
   "execution_count": 1,
   "metadata": {},
   "outputs": [],
   "source": [
    "import sys\n",
    "import numpy as np\n",
    "import matplotlib.pyplot as plt\n",
    "import cv2"
   ]
  },
  {
   "cell_type": "code",
   "execution_count": 3,
   "metadata": {},
   "outputs": [],
   "source": [
    "scr = cv2.imread('./fig_ch2/airplane.bmp')\n",
    "mask = cv2.imread('./fig_ch2/mask_plane.bmp', cv2.IMREAD_GRAYSCALE)\n",
    "dst = cv2.imread('./fig_ch2/field.bmp')\n",
    "\n",
    "if scr is None or mask is None or dst is None:\n",
    "    print('image read failed')\n",
    "    sys.exit()\n",
    "    \n",
    "cv2.copyTo(scr, mask, dst)\n",
    "    \n",
    "cv2.imshow('scr',scr)\n",
    "cv2.imshow('mask', mask)\n",
    "cv2.imshow('dst', dst)\n",
    "\n",
    "cv2.waitKey()\n",
    "cv2.destroyAllWindows()"
   ]
  },
  {
   "cell_type": "code",
   "execution_count": 11,
   "metadata": {},
   "outputs": [],
   "source": [
    "img = cv2.imread('./fig/puppy.bmp')\n",
    "\n",
    "img1 = img[200:400, 300:500]\n",
    "img2 = img[200:400, 300:500].copy()\n",
    "\n",
    "cv2.circle(img1, (100,100), 50, (0,0,225),-1)\n",
    "cv2.circle(img2, (100,100), 50, (225,0,0),-1)\n",
    "\n",
    "if img is None:\n",
    "    print('image read failed')\n",
    "    sys.exit()\n",
    "    \n",
    "cv2.imshow('img',img)\n",
    "cv2.imshow('img1',img1)\n",
    "cv2.imshow('img2',img2)\n",
    "\n",
    "cv2.waitKey()\n",
    "cv2.destroyAllWindows()"
   ]
  },
  {
   "cell_type": "code",
   "execution_count": 13,
   "metadata": {},
   "outputs": [],
   "source": [
    "# img = np.zeros((400,600,3), np.uint8)\n",
    "# img1 = np.ones((400,600,3),np.uint8) * 225\n",
    "# img2 = np.full((400,600,3),(123,43,65),np.uint8)\n",
    "\n",
    "board = np.zeros_like(img)\n",
    "\n",
    "cv2.imshow('img', img)\n",
    "cv2.imshow('board', board)\n",
    "# cv2.imshow('img1', img1)\n",
    "# cv2.imshow('img2', img2)\n",
    "\n",
    "cv2.waitKey()\n",
    "cv2.destroyAllWindows()"
   ]
  },
  {
   "cell_type": "code",
   "execution_count": 15,
   "metadata": {},
   "outputs": [
    {
     "name": "stdout",
     "output_type": "stream",
     "text": [
      "width X height = 640 x 480\n"
     ]
    }
   ],
   "source": [
    "img[200:300,400:600] = (0,0,255)\n",
    "h,w = img.shape[:2]\n",
    "print(f'width X height = {w} x {h}')\n",
    "\n",
    "cv2.imshow('img', img)\n",
    "\n",
    "cv2.waitKey()\n",
    "cv2.destroyAllWindows()"
   ]
  },
  {
   "cell_type": "code",
   "execution_count": 16,
   "metadata": {},
   "outputs": [
    {
     "name": "stdout",
     "output_type": "stream",
     "text": [
      "['./fig/my_images\\\\marina-t-pQg4GTuzwXw-unsplash.jpg', './fig/my_images\\\\mina-rad-XwAFGU8NZMM-unsplash.jpg', './fig/my_images\\\\nico-smit-S97Vd-U2qFY-unsplash.jpg', './fig/my_images\\\\ronan-dorard-TyIueNM2HGA-unsplash.jpg', './fig/my_images\\\\wolfgang-hasselmann-ryTlMRpbYaI-unsplash.jpg']\n"
     ]
    }
   ],
   "source": [
    "import glob\n",
    "file_paths = glob.glob('./fig/my_images/*.jpg')\n",
    "# print(file_paths)\n",
    "\n",
    "cv2.namedWindow('scene', cv2.WINDOW_NORMAL)\n",
    "cv2.setWindowProperty('scene', cv2.WND_PROP_FULLSCREEN, cv2.WINDOW_FULLSCREEN)\n",
    "\n",
    "idx = 0\n",
    "\n",
    "while True:\n",
    "    img = cv2.imshow(file_paths[idx])\n",
    "    \n",
    "    if img is None:\n",
    "        print('image read failed')\n",
    "        sys.exit()\n",
    "        \n",
    "    if cv2.waitKey(2000) == 27:\n",
    "        break\n",
    "    \n",
    "    idx += 1\n",
    "    \n",
    "    "
   ]
  },
  {
   "cell_type": "code",
   "execution_count": null,
   "metadata": {},
   "outputs": [],
   "source": [
    "img_BGR = cv2.imread('./fig/puppy.bmp')\n",
    "img_RGB = cv2.cvtColor(img_BGR, cv2.COLOR_BGR2RGB)\n",
    "img_GRAY = cv2.cvtColor(img_BGR, cv2.COLOR_BGR2GRAY)\n",
    "\n",
    "fig, ax = plt.subplots((1,3), figsize = (12,5))\n",
    "\n"
   ]
  },
  {
   "cell_type": "code",
   "execution_count": 38,
   "metadata": {},
   "outputs": [],
   "source": [
    "src = cv2.imread('./fig_ch2/cow.png')\n",
    "dst = cv2.imread('./fig_ch2/green.png')\n",
    "copy = dst[500:1100,900:]\n",
    "## mask\n",
    "src_GRAY = cv2.cvtColor(src, cv2.COLOR_BGR2GRAY)\n",
    "_, mask =cv2.threshold(src_GRAY, 240, 255, cv2.THRESH_BINARY_INV)\n",
    "\n",
    "cv2.copyTo(src, mask, copy)\n",
    "\n",
    "cv2.imshow('src', src)\n",
    "cv2.imshow('gray', src_GRAY)\n",
    "cv2.imshow('mask', mask)\n",
    "cv2.namedWindow('dst', cv2.WINDOW_NORMAL)\n",
    "cv2.imshow('dst', dst)\n",
    "\n",
    "cv2.imshow('copy',copy)\n",
    "\n",
    "cv2.waitKey()\n",
    "cv2.destroyAllWindows()"
   ]
  },
  {
   "cell_type": "code",
   "execution_count": 28,
   "metadata": {},
   "outputs": [
    {
     "name": "stdout",
     "output_type": "stream",
     "text": [
      "(600, 600, 3)\n",
      "(1125, 1500, 3)\n"
     ]
    }
   ],
   "source": [
    "print(src.shape)\n",
    "print(dst.shape)"
   ]
  },
  {
   "cell_type": "code",
   "execution_count": 2,
   "metadata": {},
   "outputs": [
    {
     "name": "stdout",
     "output_type": "stream",
     "text": [
      "src shape :  (480, 640, 3)\n",
      "alpha shape :  (150, 300, 4)\n"
     ]
    }
   ],
   "source": [
    "src = cv2.imread('./fig/puppy.bmp')\n",
    "alpha = cv2.imread('./fig_ch2/imgbin_sunglasses_1.png', cv2.IMREAD_UNCHANGED)\n",
    "alpha = cv2.resize(alpha, (300,150), interpolation = cv2.INTER_AREA)\n",
    "\n",
    "sunglass = alpha[:, :, 0:3]\n",
    "mask = alpha[:,:,-1]\n",
    "\n",
    "src_crop = src[120:120+150, 220:220+300]\n",
    "\n",
    "print('src shape : ', src.shape)\n",
    "print('alpha shape : ', alpha.shape)\n",
    "\n",
    "# cv2.copyTo(sunglass, mask, src_crop)\n",
    "src_crop[mask > 0] = (0,0,255)\n",
    "\n",
    "cv2.imshow('src', src)\n",
    "# (x,y,w,h) = cv2.selectROI('src')\n",
    "cv2.imshow('src_crop', src_crop)\n",
    "cv2.imshow('alpha', sunglass)\n",
    "cv2.imshow('mask', mask)\n",
    "\n",
    "cv2.waitKey()\n",
    "cv2.destroyAllWindows()"
   ]
  },
  {
   "cell_type": "code",
   "execution_count": 8,
   "metadata": {},
   "outputs": [
    {
     "name": "stdout",
     "output_type": "stream",
     "text": [
      "src shape:  (480, 640, 3)\n",
      "alpha shape :  (400, 450, 4)\n"
     ]
    }
   ],
   "source": [
    "src = cv2.imread('./fig/my_puppy.png')\n",
    "alpha = cv2.imread('./fig_ch2/imgbin_hat.png', cv2.IMREAD_UNCHANGED)\n",
    "alpha = cv2.resize(alpha, (450,400), interpolation = cv2.INTER_AREA)\n",
    "\n",
    "hat = alpha[0:170,:,0:3]\n",
    "mask_hat = alpha[0:170,:,-1]\n",
    "sunglass = alpha[170:, :, 0:3]\n",
    "mask = alpha[170:,:,-1]\n",
    "\n",
    "src_crop_sunglass = src[170:170+400-170, 180:180+450]\n",
    "scr_crop_hat = src[0:0+170, 145:145+450]\n",
    "\n",
    "print('src shape: ', src.shape)\n",
    "print('alpha shape : ', alpha.shape)\n",
    "\n",
    "    \n",
    "cv2.copyTo(sunglass, mask, src_crop_sunglass)\n",
    "cv2.copyTo(hat, mask_hat,scr_crop_hat)\n",
    "cv2.imshow('src',src)\n",
    "cv2.imshow('src_crop', src_crop_sunglass)\n",
    "cv2.imshow('scr_crop_hat', scr_crop_hat)\n",
    "\n",
    "cv2.imshow('alpha', sunglass)\n",
    "cv2.imshow('mask', mask)\n",
    "cv2.imshow('hat', hat)\n",
    "cv2.imshow('mask_hat', mask_hat)\n",
    "cv2.imwrite('./copy_img.png', src)\n",
    "\n",
    "cv2.waitKey()\n",
    "cv2.destroyAllWindows()"
   ]
  }
 ],
 "metadata": {
  "kernelspec": {
   "display_name": "py3.8",
   "language": "python",
   "name": "python3"
  },
  "language_info": {
   "codemirror_mode": {
    "name": "ipython",
    "version": 3
   },
   "file_extension": ".py",
   "mimetype": "text/x-python",
   "name": "python",
   "nbconvert_exporter": "python",
   "pygments_lexer": "ipython3",
   "version": "3.8.16"
  },
  "orig_nbformat": 4
 },
 "nbformat": 4,
 "nbformat_minor": 2
}
