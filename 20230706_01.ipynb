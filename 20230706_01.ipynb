{
 "cells": [
  {
   "cell_type": "code",
   "execution_count": 1,
   "metadata": {},
   "outputs": [],
   "source": [
    "import sys\n",
    "import numpy as np\n",
    "import cv2\n",
    "import matplotlib.pyplot as plt"
   ]
  },
  {
   "cell_type": "code",
   "execution_count": 6,
   "metadata": {},
   "outputs": [],
   "source": [
    "def call_mouse(event, x, y, flags, params):\n",
    "    global oldx, oldy\n",
    "    \n",
    "    if event == cv2.EVENT_LBUTTONDOWN:\n",
    "        oldx, oldy = x,y\n",
    "    elif event == cv2.EVENT_MOUSEMOVE:\n",
    "        if flags == cv2.EVENT_FLAG_LBUTTON:\n",
    "            cv2.line(img, (oldx, oldy),(x,y), (0,0,255), 10, cv2.LINE_AA)\n",
    "            cv2.imshow('img', img)\n",
    "            oldx, oldy = x,y\n",
    "            \n",
    "img = np.ones((600,600,3), np.uint8) * 255\n",
    "\n",
    "cv2.namedWindow('img')\n",
    "cv2.setMouseCallback('img', call_mouse)\n",
    "cv2.imshow('img',img)\n",
    "\n",
    "while True:\n",
    "    key = cv2.waitKey()\n",
    "    if key == 27:\n",
    "        break\n",
    "    \n",
    "    elif key == ord(' '):\n",
    "        img = np.ones((600,600,3), np.uint8) * 255\n",
    "        cv2.imshow('img',img)\n",
    "        \n",
    "cv2.destroyAllWindows()"
   ]
  },
  {
   "cell_type": "code",
   "execution_count": 8,
   "metadata": {},
   "outputs": [],
   "source": [
    "cap = cv2.VideoCapture(0)\n",
    "\n",
    "if not cap.isOpened():\n",
    "    print('video open failed')\n",
    "    sys.exit()\n",
    "    \n",
    "w = int(cap.get(cv2.CAP_PROP_FRAME_WIDTH))\n",
    "h = int(cap.get(cv2.CAP_PROP_FRAME_HEIGHT))\n",
    "fps = int(cap.get(cv2.CAP_PROP_FPS))\n",
    "fourcc = cv2.VideoWriter_fourcc(*'DIVX')\n",
    "\n",
    "out = cv2.VideoWriter('./Saturday.avi', fourcc, fps, (w,h))\n",
    "\n",
    "while True:\n",
    "    ret, frame = cap.read()\n",
    "    \n",
    "    if not ret:\n",
    "        break\n",
    "    \n",
    "    frame = cv2.flip(frame, 0)\n",
    "    cv2.imshow('img', frame)\n",
    "    \n",
    "    out.write(frame)\n",
    "    \n",
    "    if cv2.waitKey(20) == 27:\n",
    "        break\n",
    "    \n",
    "cv2.destroyAllWindows()\n",
    "cap.release()\n",
    "out.release()"
   ]
  },
  {
   "cell_type": "code",
   "execution_count": 10,
   "metadata": {},
   "outputs": [],
   "source": [
    "img = np.full((600,1200,3),(23,100,150), np.uint8)\n",
    "\n",
    "cv2.line(img,(50,100),(300,100),(0,0,255),10)\n",
    "cv2.arrowedLine(img,(50,100),(300,200),(0,0,255),10)\n",
    "\n",
    "cv2.rectangle(img,(50,400),(300,500),(98,255,50),10)\n",
    "\n",
    "cv2.circle(img,(600,300),100,(123,56,43),10,cv2.LINE_AA)\n",
    "cv2.ellipse(img,(600,300),(200,50),0,0,360,(255,0,0),10,cv2.LINE_AA)\n",
    "cv2.putText(img, 'Hello python', (600,100),cv2.FONT_HERSHEY_SIMPLEX,2,(255,255,0),2,cv2.LINE_AA)\n",
    "\n",
    "cv2.imshow('img', img)\n",
    "\n",
    "cv2.waitKey()\n",
    "cv2.destroyAllWindows()"
   ]
  },
  {
   "cell_type": "code",
   "execution_count": 12,
   "metadata": {},
   "outputs": [],
   "source": [
    "src = cv2.imread('./fig_ch2/airplane.bmp')\n",
    "mask = cv2.imread('./fig_ch2/mask_plane.bmp',0)\n",
    "dst = cv2.imread('./fig_ch2/field.bmp')\n",
    "\n",
    "cv2.copyTo(src, mask, dst)\n",
    "\n",
    "cv2.imshow('src', src)\n",
    "cv2.imshow('mask', mask)\n",
    "cv2.imshow('dst', dst)\n",
    "\n",
    "cv2.waitKey()\n",
    "cv2.destroyAllWindows()\n"
   ]
  },
  {
   "cell_type": "code",
   "execution_count": 18,
   "metadata": {},
   "outputs": [],
   "source": [
    "img = cv2.imread('./fig_ch2/cat.bmp')\n",
    "h,w = img.shape[:2]\n",
    "img_resize = cv2.resize(img, (int(w*2),int(h*2)), interpolation= cv2.INTER_LINEAR)\n",
    "\n",
    "cv2.imwrite('./resize_cat.png', img_resize)\n",
    "\n",
    "cv2.imshow('img', img_resize)\n",
    "\n",
    "cv2.waitKey()\n",
    "cv2.destroyAllWindows()\n"
   ]
  },
  {
   "cell_type": "code",
   "execution_count": 43,
   "metadata": {},
   "outputs": [],
   "source": [
    "def call_track(pos):\n",
    "    img[:] = img_1 * (pos/255)\n",
    "    cv2.imshow('img', img)\n",
    "\n",
    "## trackbar\n",
    "\n",
    "img = cv2.imread('./fig_ch2/puppy.bmp', 0)\n",
    "img_1 = img.copy()\n",
    "\n",
    "cv2.imshow('img', img)\n",
    "cv2.createTrackbar('level', 'img', 0, 255, call_track)\n",
    "\n",
    "cv2.waitKey()\n",
    "cv2.destroyAllWindows()"
   ]
  },
  {
   "cell_type": "code",
   "execution_count": 48,
   "metadata": {},
   "outputs": [
    {
     "name": "stdout",
     "output_type": "stream",
     "text": [
      "1.0082721710205078 ms\n"
     ]
    }
   ],
   "source": [
    "import time\n",
    "\n",
    "img = cv2.imread('./fig_ch2/puppy.bmp', 0)\n",
    "t1 = time.time()\n",
    "img_1 = cv2.GaussianBlur(img, (0,0),2)\n",
    "t2 = time.time()\n",
    "\n",
    "cv2.imshow('img', img)\n",
    "cv2.imshow('img_1', img_1)\n",
    "\n",
    "cv2.waitKey()\n",
    "cv2.destroyAllWindows()\n",
    "\n",
    "print((t2-t1)*1000.0, 'ms')"
   ]
  }
 ],
 "metadata": {
  "kernelspec": {
   "display_name": "py3.8",
   "language": "python",
   "name": "python3"
  },
  "language_info": {
   "codemirror_mode": {
    "name": "ipython",
    "version": 3
   },
   "file_extension": ".py",
   "mimetype": "text/x-python",
   "name": "python",
   "nbconvert_exporter": "python",
   "pygments_lexer": "ipython3",
   "version": "3.8.16"
  },
  "orig_nbformat": 4
 },
 "nbformat": 4,
 "nbformat_minor": 2
}
