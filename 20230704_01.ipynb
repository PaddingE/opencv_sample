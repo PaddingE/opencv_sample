{
 "cells": [
  {
   "cell_type": "code",
   "execution_count": 1,
   "metadata": {},
   "outputs": [],
   "source": [
    "import numpy as np\n",
    "import sys\n",
    "import cv2\n",
    "import matplotlib.pyplot as plt"
   ]
  },
  {
   "cell_type": "code",
   "execution_count": 2,
   "metadata": {},
   "outputs": [],
   "source": [
    "src = cv2.imread('./fig_ch2/cow.png')\n",
    "dst = cv2.imread('./fig_ch2/green.png')\n",
    "src_gray = cv2.cvtColor(src, cv2.COLOR_BGR2GRAY)\n",
    "\n",
    "_ , mask = cv2.threshold(src_gray, 240,255,cv2.THRESH_BINARY_INV)\n",
    "\n",
    "h,w = src.shape[:2]\n",
    "\n",
    "dst_crop = dst[300:300+h, 300:300+w]\n",
    "cv2.copyTo(src, mask, dst_crop)\n",
    "cv2.imshow('src', src)\n",
    "\n",
    "cv2.namedWindow('dst', cv2.WINDOW_NORMAL)\n",
    "cv2.imshow('dst', dst)\n",
    "cv2.imshow('mask', mask)\n",
    "\n",
    "cv2.waitKey()\n",
    "cv2.destroyAllWindows()"
   ]
  },
  {
   "cell_type": "code",
   "execution_count": 3,
   "metadata": {},
   "outputs": [],
   "source": [
    "img1 = np.zeros((400,600,3), np.uint8)\n",
    "img2 = np.ones((400,600,3), np.uint8) * 255\n",
    "img3 = np.full((400,600,3),(123,56,93),np.uint8)\n",
    "\n",
    "cv2.imshow('img1',img1)\n",
    "cv2.imshow('img2',img2)\n",
    "cv2.imshow('img3',img3)\n",
    "\n",
    "cv2.waitKey()\n",
    "cv2.destroyAllWindows()\n"
   ]
  },
  {
   "cell_type": "code",
   "execution_count": 2,
   "metadata": {},
   "outputs": [],
   "source": [
    "import os"
   ]
  },
  {
   "cell_type": "code",
   "execution_count": 5,
   "metadata": {},
   "outputs": [],
   "source": [
    "img_paths = os.listdir('../opencv_sample/fig/my_images/')\n",
    "\n",
    "file_names = []\n",
    "\n",
    "for i in img_paths:\n",
    "    file_name = '../opencv_sample/fig/my_images/' + i\n",
    "    file_names.append(file_name)\n",
    "    \n",
    "# display(file_names)\n",
    "\n",
    "cv2.namedWindow('scene', cv2.WINDOW_NORMAL)\n",
    "cv2.setWindowProperty('scene', cv2.WND_PROP_FULLSCREEN, cv2.WINDOW_FULLSCREEN)\n",
    "\n",
    "idx = 0\n",
    "\n",
    "while True:\n",
    "    img = cv2.imread(file_names[idx])\n",
    "    if img is None:\n",
    "        continue\n",
    "    \n",
    "    cv2.imshow('scene', img)\n",
    "    \n",
    "    if cv2.waitKey(2000) == 27:\n",
    "        break\n",
    "    \n",
    "    idx += 1\n",
    "    \n",
    "    if idx >= len(file_names):\n",
    "        idx = 0\n",
    "        \n",
    "cv2.destroyAllWindows()"
   ]
  },
  {
   "cell_type": "code",
   "execution_count": null,
   "metadata": {},
   "outputs": [],
   "source": [
    "img_BGR = cv2.imread('./fig_ch2/cat.bmp')\n",
    "img_RGB = cv2.cvtColor(img_BGR, cv2.COLOR_BGR2RGB)\n",
    "img_GRAY = cv2.cvtColor(img_BGR, cv2.COLOR_BGR2GRAY)\n",
    "\n",
    "fig,ax = plt.subplots((1,3), figsize = (12,5))\n",
    "\n",
    "ax[0] = cv2.imshow(img_BGR)"
   ]
  },
  {
   "cell_type": "code",
   "execution_count": 6,
   "metadata": {},
   "outputs": [
    {
     "ename": "AttributeError",
     "evalue": "'NoneType' object has no attribute 'shape'",
     "output_type": "error",
     "traceback": [
      "\u001b[1;31m---------------------------------------------------------------------------\u001b[0m",
      "\u001b[1;31mAttributeError\u001b[0m                            Traceback (most recent call last)",
      "Cell \u001b[1;32mIn[6], line 2\u001b[0m\n\u001b[0;32m      1\u001b[0m img \u001b[39m=\u001b[39m cv2\u001b[39m.\u001b[39mimshow(\u001b[39m'\u001b[39m\u001b[39m./fig_ch2/imgbin_hat.png\u001b[39m\u001b[39m'\u001b[39m, cv2\u001b[39m.\u001b[39mIMREAD_UNCHANGED)\n\u001b[1;32m----> 2\u001b[0m h,w \u001b[39m=\u001b[39m img\u001b[39m.\u001b[39;49mshape[:\u001b[39m2\u001b[39m]\n\u001b[0;32m      3\u001b[0m img \u001b[39m=\u001b[39m cv2\u001b[39m.\u001b[39mresize(img,(w\u001b[39m/\u001b[39m\u001b[39m/\u001b[39m\u001b[39m3\u001b[39m, h\u001b[39m/\u001b[39m\u001b[39m/\u001b[39m\u001b[39m3\u001b[39m), interpolation\u001b[39m=\u001b[39m cv2\u001b[39m.\u001b[39mINTER_AREA)\n\u001b[0;32m      5\u001b[0m hat_img \u001b[39m=\u001b[39m img[:,:,\u001b[39m0\u001b[39m:\u001b[39m-\u001b[39m\u001b[39m1\u001b[39m]\n",
      "\u001b[1;31mAttributeError\u001b[0m: 'NoneType' object has no attribute 'shape'"
     ]
    },
    {
     "ename": "",
     "evalue": "",
     "output_type": "error",
     "traceback": [
      "\u001b[1;31mThe Kernel crashed while executing code in the the current cell or a previous cell. Please review the code in the cell(s) to identify a possible cause of the failure. Click <a href='https://aka.ms/vscodeJupyterKernelCrash'>here</a> for more info. View Jupyter <a href='command:jupyter.viewOutput'>log</a> for further details."
     ]
    }
   ],
   "source": [
    "img = cv2.imshow('./fig_ch2/imgbin_hat.png', cv2.IMREAD_UNCHANGED)\n",
    "h,w = img.shape[:2]\n",
    "img = cv2.resize(img,(w//3, h//3), interpolation= cv2.INTER_AREA)\n",
    "\n",
    "hat_img = img[:,:,0:-1]\n",
    "hat_mask = img[:,:,-1]\n",
    "cv2.imshow('hat', hat_img)\n",
    "cv2.imshow('mask', hat_mask)\n",
    "\n",
    "cv2.waitKey()\n",
    "cv2.destroyAllWindows()"
   ]
  },
  {
   "cell_type": "code",
   "execution_count": 3,
   "metadata": {},
   "outputs": [
    {
     "data": {
      "text/plain": [
       "True"
      ]
     },
     "execution_count": 3,
     "metadata": {},
     "output_type": "execute_result"
    }
   ],
   "source": [
    "src = cv2.imread('./fig_ch2/cat.bmp')\n",
    "src_resize = cv2.resize(src, (50,80), interpolation= cv2.INTER_AREA)\n",
    "cv2.imwrite('./fig/resize_cat.png', src_resize)"
   ]
  },
  {
   "cell_type": "code",
   "execution_count": 23,
   "metadata": {},
   "outputs": [],
   "source": [
    "img = np.ones((600,1200,3), np.uint8) * 255\n",
    "\n",
    "pt1 = (50,80)\n",
    "pt2 = (200,80)\n",
    "pt3 = (150,300)\n",
    "color = (0,0,255)\n",
    "thickness = 5\n",
    "\n",
    "cv2.line(img, pt1, pt2, color, thickness, cv2.LINE_8)\n",
    "cv2.line(img, pt2, pt3, color, thickness, cv2.LINE_AA)\n",
    "cv2.arrowedLine(img, (300, 80),(300, 300), (225,0,0), thickness, cv2.LINE_AA)\n",
    "\n",
    "cv2.rectangle(img, (50,400),(330,550),color, thickness)\n",
    "cv2.rectangle(img, (70,420,240,110),(0,255,0),-1)\n",
    "\n",
    "cv2.circle(img, (800,300), 100, (0,123,65), 10, cv2.LINE_AA)\n",
    "\n",
    "cv2.ellipse(img, (800,300), (50,100),45, 0,360,(0,0,255),10,cv2.LINE_AA)\n",
    "cv2.ellipse(img, (800,300), (50,100),-45, 0,360,(255,0,0),10,cv2.LINE_AA)\n",
    "\n",
    "cv2.putText(img, 'Hello opencv!', (600,100), cv2.FONT_HERSHEY_COMPLEX, 2,(84,156,255), 2, cv2.LINE_AA)\n",
    "\n",
    "cv2.imshow('img', img)\n",
    "\n",
    "cv2.waitKey()\n",
    "cv2.destroyAllWindows()"
   ]
  },
  {
   "cell_type": "code",
   "execution_count": 45,
   "metadata": {},
   "outputs": [],
   "source": [
    "img = np.ones((600,1200,3), np.uint8) * 255\n",
    "\n",
    "cv2.circle(img, (250, 200), 100, (0,255,0), 10, cv2.LINE_AA)\n",
    "cv2.ellipse(img, (250, 200), (50,100),45, 0,360,(0,0,255),10,cv2.LINE_AA)\n",
    "cv2.ellipse(img, (250, 200), (50,100),-45, 0,360,(255,0,0),10,cv2.LINE_AA)\n",
    "\n",
    "cv2.line(img, (400,90),(400,310),(0,0,255),10, cv2.LINE_AA)\n",
    "\n",
    "cv2.line(img, (170,350),(170,500),(0,0,255),10, cv2.LINE_AA)\n",
    "cv2.line(img, (170,500),(410,500),(0,0,255),10, cv2.LINE_AA)\n",
    "\n",
    "cv2.line(img, (800, 100),(600, 250),(0,0,255),10, cv2.LINE_AA)\n",
    "cv2.arrowedLine(img, (800, 100),(1000, 250), (0,0,255),10, cv2.LINE_AA)\n",
    "\n",
    "cv2.line(img, (1100, 80),(1100, 270),(0,0,255),10, cv2.LINE_AA)\n",
    "cv2.line(img, (1100, 95),(1150, 95),(0,0,255),10, cv2.LINE_AA)\n",
    "\n",
    "cv2.rectangle(img, (600,320,500,200),(0,0,0),-1)\n",
    "\n",
    "cv2.imshow('img', img)\n",
    "\n",
    "cv2.waitKey()\n",
    "cv2.destroyAllWindows()"
   ]
  },
  {
   "cell_type": "code",
   "execution_count": 52,
   "metadata": {},
   "outputs": [],
   "source": [
    "cap = cv2.VideoCapture(0)\n",
    "\n",
    "if not cap.isOpened():\n",
    "    print('Video open failed')\n",
    "    sys.exit()\n",
    "    \n",
    "while True:\n",
    "    ret, frame = cap.read()\n",
    "    \n",
    "    if not ret:\n",
    "        print('frame read failed')\n",
    "        break\n",
    "    cv2.circle(frame,(100,100),50,(0,0,255),5,cv2.LINE_AA)\n",
    "    edge = cv2.Canny(frame, 50,150)\n",
    "    \n",
    "    cv2.imshow('frame', frame)\n",
    "    cv2.imshow('edge', edge)\n",
    "    \n",
    "    if cv2.waitKey(20) == 27:\n",
    "        break\n",
    "\n",
    "cv2.destroyAllWindows()\n",
    "cap.release()"
   ]
  },
  {
   "cell_type": "code",
   "execution_count": 56,
   "metadata": {},
   "outputs": [],
   "source": [
    "cap = cv2.VideoCapture(0)\n",
    "\n",
    "if not cap.isOpened():\n",
    "    print('Video capture failed')\n",
    "    sys.exit()\n",
    "    \n",
    "w = int(cap.get(cv2.CAP_PROP_FRAME_WIDTH))\n",
    "h = int(cap.get(cv2.CAP_PROP_FRAME_HEIGHT))\n",
    "fps = int(cap.get(cv2.CAP_PROP_FPS))\n",
    "fourcc = cv2.VideoWriter_fourcc(*'DIVX')\n",
    "\n",
    "out = cv2.VideoWriter('output_edge.avi', fourcc, fps, (w,h))\n",
    "\n",
    "while True:\n",
    "    ret, frame = cap.read()\n",
    "    \n",
    "    if not ret:\n",
    "        print('frame read failed')\n",
    "        break\n",
    "    # cv2.circle(frame, (200,100),100,(0,0,255),10,cv2.LINE_AA)\n",
    "    edge = cv2.Canny(frame, 50,100)\n",
    "    edge = cv2.cvtColor(edge, cv2.COLOR_GRAY2BGR)\n",
    "    cv2.imshow('frame', frame)\n",
    "    cv2.imshow('edge', edge)\n",
    "    \n",
    "    out.write(edge)\n",
    "    \n",
    "    if cv2.waitKey(20) == 27:\n",
    "        break\n",
    "    \n",
    "cv2.destroyAllWindows()\n",
    "cap.release()\n",
    "out.release()"
   ]
  }
 ],
 "metadata": {
  "kernelspec": {
   "display_name": "py3.8",
   "language": "python",
   "name": "python3"
  },
  "language_info": {
   "codemirror_mode": {
    "name": "ipython",
    "version": 3
   },
   "file_extension": ".py",
   "mimetype": "text/x-python",
   "name": "python",
   "nbconvert_exporter": "python",
   "pygments_lexer": "ipython3",
   "version": "3.8.16"
  },
  "orig_nbformat": 4
 },
 "nbformat": 4,
 "nbformat_minor": 2
}
